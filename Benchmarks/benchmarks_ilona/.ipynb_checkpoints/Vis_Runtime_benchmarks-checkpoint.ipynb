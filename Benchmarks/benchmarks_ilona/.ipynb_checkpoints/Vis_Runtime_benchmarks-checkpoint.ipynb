{
 "cells": [
  {
   "cell_type": "code",
   "execution_count": 1,
   "metadata": {},
   "outputs": [],
   "source": [
    "import pandas as pd\n",
    "from datetime import datetime\n",
    "import csv\n",
    "import matplotlib.pyplot as plt\n",
    "import matplotlib.dates as mdates"
   ]
  },
  {
   "cell_type": "code",
   "execution_count": 2,
   "metadata": {},
   "outputs": [],
   "source": [
    "\n",
    "headers = ['Time before Scatter','Begin Grayscale','End Grayscale','Begin Emboss','End Emboss','Finishing Time','Rank']\n",
    "df = pd.read_csv('./benchmark_large.csv',header = 0)\n",
    "df_2 = pd.read_csv('./benchmark_micro.csv',header = 0)\n"
   ]
  },
  {
   "cell_type": "code",
   "execution_count": 3,
   "metadata": {},
   "outputs": [],
   "source": [
    "ranks = df['Rank'].drop_duplicates()\n",
    "f_time_large= df.groupby('Rank')['Finishing Time'].mean().values\n",
    "begin_time_large = df.groupby('Rank')['Time before Scatter'].mean().values\n",
    "#endemboss_time= df.groupby('Rank')['End Emboss'].mean().values\n",
    "#beginemboss_time= df.groupby('Rank')['Begin Emboss'].mean().values\n",
    "#endgreyscale_time= df.groupby('Rank')['End Grayscale'].mean().values\n",
    "#begingreyscale_time= df.groupby('Rank')['Begin Grayscale'].mean().values\n",
    "\n",
    "f_time_micro= df_2.groupby('Rank')['Finishing Time'].mean().values\n",
    "begin_time_micro = df_2.groupby('Rank')['Time before Scatter'].mean().values\n",
    "endemboss_time_micro= df_2.groupby('Rank')['End Emboss'].mean().values\n",
    "beginemboss_time_micro= df_2.groupby('Rank')['Begin Emboss'].mean().values\n",
    "endgreyscale_time_micro= df_2.groupby('Rank')['End Grayscale'].mean().values\n",
    "begingreyscale_time_micro= df_2.groupby('Rank')['Begin Grayscale'].mean().values\n",
    "\n",
    "\n"
   ]
  },
  {
   "cell_type": "code",
   "execution_count": 7,
   "metadata": {},
   "outputs": [
    {
     "data": {
      "image/png": "[encoded data removed]",
      "text/plain": [
       "<Figure size 432x288 with 1 Axes>"
      ]
     },
     "metadata": {
      "needs_background": "light"
     },
     "output_type": "display_data"
    }
   ],
   "source": [
    "width = 0.2\n",
    "barwidth=0.4\n",
    "\n",
    "plt.bar(ranks+width, f_time_large, color = '#666666ff', width = barwidth, label='Stoppzeit (gross)')\n",
    "#plt.bar(ranks+2*width, f_time_medium, color = 'r', width = barwidth)\n",
    "#plt.bar(ranks+3*width, begin_time_medium, color = 'g', width = barwidth)\n",
    "\n",
    "plt.bar(ranks+width, f_time_micro, color = '#999999ff', width = barwidth, label='Stoppzeit (klein)')\n",
    "\n",
    "plt.bar(ranks, begin_time_large, color = '#88c01aff', width = barwidth,label='Startzeit (gross)')\n",
    "plt.bar(ranks, begin_time_micro, color = '#d3f78cff', width =barwidth,label='Startzeit (klein)')\n",
    "plt.ylabel('Berechnungszeit s')\n",
    "\n",
    "plt.xlabel('Anzahl an Prozessen')\n",
    "plt.title('Vergleich der Berechnungsdauer')\n",
    "plt.legend()\n",
    "plt.savefig('benchmarks_ilona.png') \n",
    "#plt.bar(ranks+2*width, endgreyscale_time_medium, color='g', width = barwidth)\n",
    "#plt.bar(ranks+3*width, beginemboss_time_medium, color='#6593F5', width = barwidth)\n",
    "#plt.bar(ranks+4*width, endemboss_time_medium, color = '#0F52BA', width =barwidth)"
   ]
  },
  {
   "cell_type": "code",
   "execution_count": null,
   "metadata": {},
   "outputs": [],
   "source": []
  },
  {
   "cell_type": "code",
   "execution_count": null,
   "metadata": {},
   "outputs": [],
   "source": []
  }
 ],
 "metadata": {
  "kernelspec": {
   "display_name": "Python 3",
   "language": "python",
   "name": "python3"
  },
  "language_info": {
   "codemirror_mode": {
    "name": "ipython",
    "version": 3
   },
   "file_extension": ".py",
   "mimetype": "text/x-python",
   "name": "python",
   "nbconvert_exporter": "python",
   "pygments_lexer": "ipython3",
   "version": "3.7.4"
  }
 },
 "nbformat": 4,
 "nbformat_minor": 4
}
